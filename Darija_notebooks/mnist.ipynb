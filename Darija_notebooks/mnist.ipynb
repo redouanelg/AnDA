{
  "nbformat": 4,
  "nbformat_minor": 0,
  "metadata": {
    "colab": {
      "name": "mnist.ipynb",
      "version": "0.3.2",
      "provenance": []
    },
    "kernelspec": {
      "name": "python3",
      "display_name": "Python 3"
    },
    "accelerator": "GPU"
  },
  "cells": [
    {
      "metadata": {
        "id": "b0WwmgAUcLP3",
        "colab_type": "text"
      },
      "cell_type": "markdown",
      "source": [
        "### ggggg"
      ]
    },
    {
      "metadata": {
        "id": "Yaj3zzYxPPgl",
        "colab_type": "text"
      },
      "cell_type": "markdown",
      "source": [
        "### <div dir=\"rtl\">هدف دفتر جوبيتير هذا هو تمرين شبكة عصبونية عميقة من نوع Convolutional Neural Network على قاعدة MNIST للارقام المكتوبة بخط اليد\n",
        " </div>\n",
        "\n",
        "\n",
        "<div dir=\"rtl\">\n",
        "\n",
        "الهدف هو ان تصبح الشبكة العصبونية قادرة على التعرف اوتوماتيكيا على الارقام.\n",
        "<br>\n",
        "هذا المثال جد مشهور و يستعمل كثيرا كبداية و تدريب في استعمال الشبكات العصبونية.\n",
        "<br>\n",
        "في المثال اسفله نحصل على شبكة عصبونية قادرة على توقع الرقم المكتوب اوتوماتيكيا بدقة تفوق 99 في المائة \n",
        "<br>\n",
        "  كتب بواسطة رضوان لكنسات، مستوحى من امثلة Keras  \n",
        "</div>\n",
        "\n",
        "https://github.com/keras-team/keras/blob/master/examples/mnist_cnn.py\n"
      ]
    },
    {
      "metadata": {
        "id": "zTfPYO76PPgm",
        "colab_type": "code",
        "colab": {
          "base_uri": "https://localhost:8080/",
          "height": 34
        },
        "outputId": "a711fbd2-fc2a-461c-8d5e-cca1c08f3fa0"
      },
      "cell_type": "code",
      "source": [
        "import keras\n",
        "from keras.datasets import mnist\n",
        "from keras.models import Sequential\n",
        "from keras.layers import Dense, Dropout, Flatten\n",
        "from keras.layers import Conv2D, MaxPooling2D\n",
        "from keras import backend as K\n",
        "\n",
        "batch_size = 128\n",
        "num_classes = 10\n",
        "epochs = 12"
      ],
      "execution_count": 1,
      "outputs": [
        {
          "output_type": "stream",
          "text": [
            "Using TensorFlow backend.\n"
          ],
          "name": "stderr"
        }
      ]
    },
    {
      "metadata": {
        "id": "D7J47lUxPPgp",
        "colab_type": "text"
      },
      "cell_type": "markdown",
      "source": [
        "### <div dir=\"rtl\">:هنا عانوجدو البيانات ديال الارقام المكتوبة باليد اللي عندنا التصنيف ديالها باش نعطيوها للشبكة تتعلم منها\n",
        " </div>\n",
        " \n",
        " <div dir=\"rtl\">60000 مثال ديال التصنيف عانوريوهم للشبكة باش تعلم منهم و عانخليو 10000 ماعانوريوهمش للشبكة باش نجربوها فيهم </div>"
      ]
    },
    {
      "metadata": {
        "id": "WxErlD3KPPgq",
        "colab_type": "code",
        "colab": {
          "base_uri": "https://localhost:8080/",
          "height": 102
        },
        "outputId": "64d1a242-c226-4aac-d425-85794226970e"
      },
      "cell_type": "code",
      "source": [
        "# input image dimensions\n",
        "img_rows, img_cols = 28, 28\n",
        "\n",
        "# the data, shuffled and split between train and test sets\n",
        "(x_train, y_train), (x_test, y_test) = mnist.load_data()\n",
        "\n",
        "if K.image_data_format() == 'channels_first':\n",
        "    x_train = x_train.reshape(x_train.shape[0], 1, img_rows, img_cols)\n",
        "    x_test = x_test.reshape(x_test.shape[0], 1, img_rows, img_cols)\n",
        "    input_shape = (1, img_rows, img_cols)\n",
        "else:\n",
        "    x_train = x_train.reshape(x_train.shape[0], img_rows, img_cols, 1)\n",
        "    x_test = x_test.reshape(x_test.shape[0], img_rows, img_cols, 1)\n",
        "    input_shape = (img_rows, img_cols, 1)\n",
        "\n",
        "x_train = x_train.astype('float32')\n",
        "x_test = x_test.astype('float32')\n",
        "x_train /= 255\n",
        "x_test /= 255\n",
        "print('x_train shape:', x_train.shape)\n",
        "print(x_train.shape[0], 'train samples')\n",
        "print(x_test.shape[0], 'test samples')\n",
        "\n",
        "# convert class vectors to binary class matrices\n",
        "y_train = keras.utils.to_categorical(y_train, num_classes)\n",
        "y_test = keras.utils.to_categorical(y_test, num_classes)"
      ],
      "execution_count": 2,
      "outputs": [
        {
          "output_type": "stream",
          "text": [
            "Downloading data from https://s3.amazonaws.com/img-datasets/mnist.npz\n",
            "11493376/11490434 [==============================] - 3s 0us/step\n",
            "x_train shape: (60000, 28, 28, 1)\n",
            "60000 train samples\n",
            "10000 test samples\n"
          ],
          "name": "stdout"
        }
      ]
    },
    {
      "metadata": {
        "id": "qztS3p7EPPgu",
        "colab_type": "text"
      },
      "cell_type": "markdown",
      "source": [
        "### <div dir=\"rtl\">الشبكة العصبونية ديالنا اللي عادي نترينيوها باش تولي واعرة فالتعرف على الارقام  \n",
        " </div>\n"
      ]
    },
    {
      "metadata": {
        "id": "wKy1QTMYPPgu",
        "colab_type": "code",
        "colab": {
          "base_uri": "https://localhost:8080/",
          "height": 408
        },
        "outputId": "9d190564-1989-4a77-b6d2-ba36c1870451"
      },
      "cell_type": "code",
      "source": [
        "model = Sequential()\n",
        "model.add(Conv2D(32, kernel_size=(3, 3),\n",
        "                 activation='relu',\n",
        "                 input_shape=input_shape))\n",
        "model.add(Conv2D(64, (3, 3), activation='relu'))\n",
        "model.add(MaxPooling2D(pool_size=(2, 2)))\n",
        "model.add(Dropout(0.25))\n",
        "model.add(Flatten())\n",
        "model.add(Dense(128, activation='relu'))\n",
        "model.add(Dropout(0.5))\n",
        "model.add(Dense(num_classes, activation='softmax'))\n",
        "\n",
        "model.compile(loss=keras.losses.categorical_crossentropy,\n",
        "              optimizer='adam',\n",
        "              metrics=['accuracy'])\n",
        "\n",
        "model.summary()"
      ],
      "execution_count": 4,
      "outputs": [
        {
          "output_type": "stream",
          "text": [
            "_________________________________________________________________\n",
            "Layer (type)                 Output Shape              Param #   \n",
            "=================================================================\n",
            "conv2d_3 (Conv2D)            (None, 26, 26, 32)        320       \n",
            "_________________________________________________________________\n",
            "conv2d_4 (Conv2D)            (None, 24, 24, 64)        18496     \n",
            "_________________________________________________________________\n",
            "max_pooling2d_2 (MaxPooling2 (None, 12, 12, 64)        0         \n",
            "_________________________________________________________________\n",
            "dropout_3 (Dropout)          (None, 12, 12, 64)        0         \n",
            "_________________________________________________________________\n",
            "flatten_2 (Flatten)          (None, 9216)              0         \n",
            "_________________________________________________________________\n",
            "dense_3 (Dense)              (None, 128)               1179776   \n",
            "_________________________________________________________________\n",
            "dropout_4 (Dropout)          (None, 128)               0         \n",
            "_________________________________________________________________\n",
            "dense_4 (Dense)              (None, 10)                1290      \n",
            "=================================================================\n",
            "Total params: 1,199,882\n",
            "Trainable params: 1,199,882\n",
            "Non-trainable params: 0\n",
            "_________________________________________________________________\n"
          ],
          "name": "stdout"
        }
      ]
    },
    {
      "metadata": {
        "id": "O9EthwXARsty",
        "colab_type": "code",
        "colab": {
          "base_uri": "https://localhost:8080/",
          "height": 459
        },
        "outputId": "e6a940af-5108-489c-ee1b-9e04e54e9214"
      },
      "cell_type": "code",
      "source": [
        "model.fit(x_train, y_train,\n",
        "          batch_size=batch_size,\n",
        "          epochs=epochs,\n",
        "          verbose=1,\n",
        "          validation_data=(x_test, y_test))"
      ],
      "execution_count": 5,
      "outputs": [
        {
          "output_type": "stream",
          "text": [
            "Train on 60000 samples, validate on 10000 samples\n",
            "Epoch 1/12\n",
            "60000/60000 [==============================] - 171s 3ms/step - loss: 0.2624 - acc: 0.9213 - val_loss: 0.0519 - val_acc: 0.9839\n",
            "Epoch 2/12\n",
            "60000/60000 [==============================] - 170s 3ms/step - loss: 0.0919 - acc: 0.9723 - val_loss: 0.0367 - val_acc: 0.9886\n",
            "Epoch 3/12\n",
            "60000/60000 [==============================] - 171s 3ms/step - loss: 0.0688 - acc: 0.9787 - val_loss: 0.0328 - val_acc: 0.9895\n",
            "Epoch 4/12\n",
            "60000/60000 [==============================] - 170s 3ms/step - loss: 0.0555 - acc: 0.9830 - val_loss: 0.0326 - val_acc: 0.9886\n",
            "Epoch 5/12\n",
            "60000/60000 [==============================] - 171s 3ms/step - loss: 0.0459 - acc: 0.9853 - val_loss: 0.0275 - val_acc: 0.9911\n",
            "Epoch 6/12\n",
            "60000/60000 [==============================] - 170s 3ms/step - loss: 0.0419 - acc: 0.9870 - val_loss: 0.0280 - val_acc: 0.9915\n",
            "Epoch 7/12\n",
            "60000/60000 [==============================] - 170s 3ms/step - loss: 0.0355 - acc: 0.9886 - val_loss: 0.0268 - val_acc: 0.9919\n",
            "Epoch 8/12\n",
            "60000/60000 [==============================] - 171s 3ms/step - loss: 0.0346 - acc: 0.9888 - val_loss: 0.0298 - val_acc: 0.9915\n",
            "Epoch 9/12\n",
            "60000/60000 [==============================] - 170s 3ms/step - loss: 0.0302 - acc: 0.9901 - val_loss: 0.0277 - val_acc: 0.9920\n",
            "Epoch 10/12\n",
            "60000/60000 [==============================] - 171s 3ms/step - loss: 0.0266 - acc: 0.9914 - val_loss: 0.0298 - val_acc: 0.9921\n",
            "Epoch 11/12\n",
            "60000/60000 [==============================] - 170s 3ms/step - loss: 0.0244 - acc: 0.9919 - val_loss: 0.0305 - val_acc: 0.9908\n",
            "Epoch 12/12\n",
            "60000/60000 [==============================] - 171s 3ms/step - loss: 0.0238 - acc: 0.9925 - val_loss: 0.0268 - val_acc: 0.9930\n"
          ],
          "name": "stdout"
        },
        {
          "output_type": "execute_result",
          "data": {
            "text/plain": [
              "<keras.callbacks.History at 0x7f70f29fdeb8>"
            ]
          },
          "metadata": {
            "tags": []
          },
          "execution_count": 5
        }
      ]
    },
    {
      "metadata": {
        "id": "bx8206YhPPgy",
        "colab_type": "text"
      },
      "cell_type": "markdown",
      "source": [
        "### <div dir=\"rtl\">نجربو واش الشبكة ترينات مزيان، عانعطيوها دوك تصاور جداد ماكانوش فهادوك اللي تعلمات منهم  \n",
        " </div>"
      ]
    },
    {
      "metadata": {
        "id": "Shf988WCRqI_",
        "colab_type": "code",
        "colab": {
          "base_uri": "https://localhost:8080/",
          "height": 51
        },
        "outputId": "ec8cf1b9-733c-4e00-d84a-a0790792ae37"
      },
      "cell_type": "code",
      "source": [
        "score = model.evaluate(x_test, y_test, verbose=0)\n",
        "print('Test loss:', score[0])\n",
        "print('Test accuracy:', score[1])"
      ],
      "execution_count": 6,
      "outputs": [
        {
          "output_type": "stream",
          "text": [
            "Test loss: 0.02680587958545202\n",
            "Test accuracy: 0.993\n"
          ],
          "name": "stdout"
        }
      ]
    },
    {
      "metadata": {
        "id": "G6I9jzcEaHci",
        "colab_type": "text"
      },
      "cell_type": "markdown",
      "source": [
        "داكشي زين، 99.3% كاتعرف تجاوب صحيح"
      ]
    },
    {
      "metadata": {
        "id": "obxYr8c9Sax7",
        "colab_type": "text"
      },
      "cell_type": "markdown",
      "source": [
        "### <div dir=\"rtl\">نضربو طليلة على شي امثلة نشوفو الخوارزمية اش كاتقول  \n",
        " </div>"
      ]
    },
    {
      "metadata": {
        "id": "tn334ttmPPgy",
        "colab_type": "code",
        "colab": {
          "base_uri": "https://localhost:8080/",
          "height": 812
        },
        "outputId": "036d7605-1fdb-4f8d-b2ea-f77b1eb53843"
      },
      "cell_type": "code",
      "source": [
        "from IPython.core.interactiveshell import InteractiveShell\n",
        "InteractiveShell.ast_node_interactivity = \"all\"\n",
        "\n",
        "from matplotlib import pyplot as plt\n",
        "%matplotlib inline\n",
        "import numpy as np\n",
        "\n",
        "randindices=np.random.randint(x_test.shape[0],size=3)\n",
        "plt.imshow(x_test[randindices[0],:,:,0])\n",
        "plt.show()\n",
        "plt.imshow(x_test[randindices[1],:,:,0])\n",
        "plt.show()\n",
        "plt.imshow(x_test[randindices[2],:,:,0])"
      ],
      "execution_count": 8,
      "outputs": [
        {
          "output_type": "execute_result",
          "data": {
            "text/plain": [
              "<matplotlib.image.AxesImage at 0x7f70f0221e48>"
            ]
          },
          "metadata": {
            "tags": []
          },
          "execution_count": 8
        },
        {
          "output_type": "display_data",
          "data": {
            "image/png": "[encoded data removed]",
            "text/plain": [
              "<matplotlib.figure.Figure at 0x7f70f32f3c18>"
            ]
          },
          "metadata": {
            "tags": []
          }
        },
        {
          "output_type": "execute_result",
          "data": {
            "text/plain": [
              "<matplotlib.image.AxesImage at 0x7f70f23167f0>"
            ]
          },
          "metadata": {
            "tags": []
          },
          "execution_count": 8
        },
        {
          "output_type": "display_data",
          "data": {
            "image/png": "[encoded data removed]",
            "text/plain": [
              "<matplotlib.figure.Figure at 0x7f7123578ef0>"
            ]
          },
          "metadata": {
            "tags": []
          }
        },
        {
          "output_type": "execute_result",
          "data": {
            "text/plain": [
              "<matplotlib.image.AxesImage at 0x7f70f3311978>"
            ]
          },
          "metadata": {
            "tags": []
          },
          "execution_count": 8
        },
        {
          "output_type": "display_data",
          "data": {
            "image/png": "[encoded data removed]",
            "text/plain": [
              "<matplotlib.figure.Figure at 0x7f70f2a75080>"
            ]
          },
          "metadata": {
            "tags": []
          }
        }
      ]
    },
    {
      "metadata": {
        "id": "bQOI_DzvPPg3",
        "colab_type": "code",
        "colab": {
          "base_uri": "https://localhost:8080/",
          "height": 68
        },
        "outputId": "e29885f5-17bf-46ce-a56c-d5a9d642e823"
      },
      "cell_type": "code",
      "source": [
        "predictions=model.predict(x_test)\n",
        "print(\"الخوارزمية كاتظن ان الرقم هو  \" + str(np.argmax(predictions[randindices[0],:])) + ' with ' + str(np.max(predictions[randindices[0],:]) * 100) + '% confidence.')\n",
        "print(\"الخوارزمية كاتظن ان الرقم هو \" + str(np.argmax(predictions[randindices[1],:])) + ' with ' + str(np.max(predictions[randindices[1],:]) * 100) + '% confidence.')\n",
        "print(\"الخوارزمية كاتظن ان الرقم هو \" + str(np.argmax(predictions[randindices[2],:])) + ' with ' + str(np.max(predictions[randindices[2],:]) * 100) + '% confidence.')"
      ],
      "execution_count": 9,
      "outputs": [
        {
          "output_type": "stream",
          "text": [
            "الخوارزمية كاتظن ان الرقم هو  5 with 100.0% confidence.\n",
            "الخوارزمية كاتظن ان الرقم هو 0 with 100.0% confidence.\n",
            "الخوارزمية كاتظن ان الرقم هو 1 with 100.0% confidence.\n"
          ],
          "name": "stdout"
        }
      ]
    },
    {
      "metadata": {
        "id": "K1WZec8tPPg5",
        "colab_type": "code",
        "colab": {}
      },
      "cell_type": "code",
      "source": [
        ""
      ],
      "execution_count": 0,
      "outputs": []
    }
  ]
}